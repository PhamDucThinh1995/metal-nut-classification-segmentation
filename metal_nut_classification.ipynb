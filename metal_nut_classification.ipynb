{
  "nbformat": 4,
  "nbformat_minor": 0,
  "metadata": {
    "colab": {
      "name": "metal-nut-classification.ipynb",
      "provenance": [],
      "collapsed_sections": [],
      "authorship_tag": "ABX9TyMaqrSQMn5nTfJ+WYrRrQ0J",
      "include_colab_link": true
    },
    "kernelspec": {
      "name": "python3",
      "display_name": "Python 3"
    },
    "language_info": {
      "name": "python"
    },
    "gpuClass": "standard"
  },
  "cells": [
    {
      "cell_type": "markdown",
      "metadata": {
        "id": "view-in-github",
        "colab_type": "text"
      },
      "source": [
        "<a href=\"https://colab.research.google.com/github/PhamDucThinh1995/metal-nut-classification-segmentation/blob/main/metal_nut_classification.ipynb\" target=\"_parent\"><img src=\"https://colab.research.google.com/assets/colab-badge.svg\" alt=\"Open In Colab\"/></a>"
      ]
    },
    {
      "cell_type": "code",
      "source": [
        "!pip install timm\n",
        "!pip install wandb\n",
        "!pip install albumentations==1.2.1"
      ],
      "metadata": {
        "colab": {
          "base_uri": "https://localhost:8080/"
        },
        "id": "BiLouDrkEKjf",
        "outputId": "b67374df-5034-4168-d7fe-d653a072634f"
      },
      "execution_count": 1,
      "outputs": [
        {
          "output_type": "stream",
          "name": "stdout",
          "text": [
            "Looking in indexes: https://pypi.org/simple, https://us-python.pkg.dev/colab-wheels/public/simple/\n",
            "Requirement already satisfied: timm in /usr/local/lib/python3.7/dist-packages (0.6.5)\n",
            "Requirement already satisfied: torchvision in /usr/local/lib/python3.7/dist-packages (from timm) (0.13.0+cu113)\n",
            "Requirement already satisfied: torch>=1.4 in /usr/local/lib/python3.7/dist-packages (from timm) (1.12.0+cu113)\n",
            "Requirement already satisfied: typing-extensions in /usr/local/lib/python3.7/dist-packages (from torch>=1.4->timm) (4.1.1)\n",
            "Requirement already satisfied: numpy in /usr/local/lib/python3.7/dist-packages (from torchvision->timm) (1.21.6)\n",
            "Requirement already satisfied: requests in /usr/local/lib/python3.7/dist-packages (from torchvision->timm) (2.23.0)\n",
            "Requirement already satisfied: pillow!=8.3.*,>=5.3.0 in /usr/local/lib/python3.7/dist-packages (from torchvision->timm) (7.1.2)\n",
            "Requirement already satisfied: certifi>=2017.4.17 in /usr/local/lib/python3.7/dist-packages (from requests->torchvision->timm) (2022.6.15)\n",
            "Requirement already satisfied: chardet<4,>=3.0.2 in /usr/local/lib/python3.7/dist-packages (from requests->torchvision->timm) (3.0.4)\n",
            "Requirement already satisfied: urllib3!=1.25.0,!=1.25.1,<1.26,>=1.21.1 in /usr/local/lib/python3.7/dist-packages (from requests->torchvision->timm) (1.24.3)\n",
            "Requirement already satisfied: idna<3,>=2.5 in /usr/local/lib/python3.7/dist-packages (from requests->torchvision->timm) (2.10)\n",
            "Looking in indexes: https://pypi.org/simple, https://us-python.pkg.dev/colab-wheels/public/simple/\n",
            "Requirement already satisfied: wandb in /usr/local/lib/python3.7/dist-packages (0.12.21)\n",
            "Requirement already satisfied: shortuuid>=0.5.0 in /usr/local/lib/python3.7/dist-packages (from wandb) (1.0.9)\n",
            "Requirement already satisfied: requests<3,>=2.0.0 in /usr/local/lib/python3.7/dist-packages (from wandb) (2.23.0)\n",
            "Requirement already satisfied: six>=1.13.0 in /usr/local/lib/python3.7/dist-packages (from wandb) (1.15.0)\n",
            "Requirement already satisfied: psutil>=5.0.0 in /usr/local/lib/python3.7/dist-packages (from wandb) (5.4.8)\n",
            "Requirement already satisfied: promise<3,>=2.0 in /usr/local/lib/python3.7/dist-packages (from wandb) (2.3)\n",
            "Requirement already satisfied: protobuf<4.0dev,>=3.12.0 in /usr/local/lib/python3.7/dist-packages (from wandb) (3.17.3)\n",
            "Requirement already satisfied: setuptools in /usr/local/lib/python3.7/dist-packages (from wandb) (57.4.0)\n",
            "Requirement already satisfied: docker-pycreds>=0.4.0 in /usr/local/lib/python3.7/dist-packages (from wandb) (0.4.0)\n",
            "Requirement already satisfied: PyYAML in /usr/local/lib/python3.7/dist-packages (from wandb) (3.13)\n",
            "Requirement already satisfied: pathtools in /usr/local/lib/python3.7/dist-packages (from wandb) (0.1.2)\n",
            "Requirement already satisfied: Click!=8.0.0,>=7.0 in /usr/local/lib/python3.7/dist-packages (from wandb) (7.1.2)\n",
            "Requirement already satisfied: setproctitle in /usr/local/lib/python3.7/dist-packages (from wandb) (1.2.3)\n",
            "Requirement already satisfied: sentry-sdk>=1.0.0 in /usr/local/lib/python3.7/dist-packages (from wandb) (1.8.0)\n",
            "Requirement already satisfied: GitPython>=1.0.0 in /usr/local/lib/python3.7/dist-packages (from wandb) (3.1.27)\n",
            "Requirement already satisfied: gitdb<5,>=4.0.1 in /usr/local/lib/python3.7/dist-packages (from GitPython>=1.0.0->wandb) (4.0.9)\n",
            "Requirement already satisfied: typing-extensions>=3.7.4.3 in /usr/local/lib/python3.7/dist-packages (from GitPython>=1.0.0->wandb) (4.1.1)\n",
            "Requirement already satisfied: smmap<6,>=3.0.1 in /usr/local/lib/python3.7/dist-packages (from gitdb<5,>=4.0.1->GitPython>=1.0.0->wandb) (5.0.0)\n",
            "Requirement already satisfied: chardet<4,>=3.0.2 in /usr/local/lib/python3.7/dist-packages (from requests<3,>=2.0.0->wandb) (3.0.4)\n",
            "Requirement already satisfied: certifi>=2017.4.17 in /usr/local/lib/python3.7/dist-packages (from requests<3,>=2.0.0->wandb) (2022.6.15)\n",
            "Requirement already satisfied: idna<3,>=2.5 in /usr/local/lib/python3.7/dist-packages (from requests<3,>=2.0.0->wandb) (2.10)\n",
            "Requirement already satisfied: urllib3!=1.25.0,!=1.25.1,<1.26,>=1.21.1 in /usr/local/lib/python3.7/dist-packages (from requests<3,>=2.0.0->wandb) (1.24.3)\n",
            "Looking in indexes: https://pypi.org/simple, https://us-python.pkg.dev/colab-wheels/public/simple/\n",
            "Requirement already satisfied: albumentations==1.2.1 in /usr/local/lib/python3.7/dist-packages (1.2.1)\n",
            "Requirement already satisfied: opencv-python-headless>=4.1.1 in /usr/local/lib/python3.7/dist-packages (from albumentations==1.2.1) (4.6.0.66)\n",
            "Requirement already satisfied: PyYAML in /usr/local/lib/python3.7/dist-packages (from albumentations==1.2.1) (3.13)\n",
            "Requirement already satisfied: qudida>=0.0.4 in /usr/local/lib/python3.7/dist-packages (from albumentations==1.2.1) (0.0.4)\n",
            "Requirement already satisfied: numpy>=1.11.1 in /usr/local/lib/python3.7/dist-packages (from albumentations==1.2.1) (1.21.6)\n",
            "Requirement already satisfied: scikit-image>=0.16.1 in /usr/local/lib/python3.7/dist-packages (from albumentations==1.2.1) (0.18.3)\n",
            "Requirement already satisfied: scipy in /usr/local/lib/python3.7/dist-packages (from albumentations==1.2.1) (1.7.3)\n",
            "Requirement already satisfied: scikit-learn>=0.19.1 in /usr/local/lib/python3.7/dist-packages (from qudida>=0.0.4->albumentations==1.2.1) (1.0.2)\n",
            "Requirement already satisfied: typing-extensions in /usr/local/lib/python3.7/dist-packages (from qudida>=0.0.4->albumentations==1.2.1) (4.1.1)\n",
            "Requirement already satisfied: PyWavelets>=1.1.1 in /usr/local/lib/python3.7/dist-packages (from scikit-image>=0.16.1->albumentations==1.2.1) (1.3.0)\n",
            "Requirement already satisfied: tifffile>=2019.7.26 in /usr/local/lib/python3.7/dist-packages (from scikit-image>=0.16.1->albumentations==1.2.1) (2021.11.2)\n",
            "Requirement already satisfied: networkx>=2.0 in /usr/local/lib/python3.7/dist-packages (from scikit-image>=0.16.1->albumentations==1.2.1) (2.6.3)\n",
            "Requirement already satisfied: matplotlib!=3.0.0,>=2.0.0 in /usr/local/lib/python3.7/dist-packages (from scikit-image>=0.16.1->albumentations==1.2.1) (3.2.2)\n",
            "Requirement already satisfied: imageio>=2.3.0 in /usr/local/lib/python3.7/dist-packages (from scikit-image>=0.16.1->albumentations==1.2.1) (2.4.1)\n",
            "Requirement already satisfied: pillow!=7.1.0,!=7.1.1,>=4.3.0 in /usr/local/lib/python3.7/dist-packages (from scikit-image>=0.16.1->albumentations==1.2.1) (7.1.2)\n",
            "Requirement already satisfied: pyparsing!=2.0.4,!=2.1.2,!=2.1.6,>=2.0.1 in /usr/local/lib/python3.7/dist-packages (from matplotlib!=3.0.0,>=2.0.0->scikit-image>=0.16.1->albumentations==1.2.1) (3.0.9)\n",
            "Requirement already satisfied: python-dateutil>=2.1 in /usr/local/lib/python3.7/dist-packages (from matplotlib!=3.0.0,>=2.0.0->scikit-image>=0.16.1->albumentations==1.2.1) (2.8.2)\n",
            "Requirement already satisfied: cycler>=0.10 in /usr/local/lib/python3.7/dist-packages (from matplotlib!=3.0.0,>=2.0.0->scikit-image>=0.16.1->albumentations==1.2.1) (0.11.0)\n",
            "Requirement already satisfied: kiwisolver>=1.0.1 in /usr/local/lib/python3.7/dist-packages (from matplotlib!=3.0.0,>=2.0.0->scikit-image>=0.16.1->albumentations==1.2.1) (1.4.4)\n",
            "Requirement already satisfied: six>=1.5 in /usr/local/lib/python3.7/dist-packages (from python-dateutil>=2.1->matplotlib!=3.0.0,>=2.0.0->scikit-image>=0.16.1->albumentations==1.2.1) (1.15.0)\n",
            "Requirement already satisfied: threadpoolctl>=2.0.0 in /usr/local/lib/python3.7/dist-packages (from scikit-learn>=0.19.1->qudida>=0.0.4->albumentations==1.2.1) (3.1.0)\n",
            "Requirement already satisfied: joblib>=0.11 in /usr/local/lib/python3.7/dist-packages (from scikit-learn>=0.19.1->qudida>=0.0.4->albumentations==1.2.1) (1.1.0)\n"
          ]
        }
      ]
    },
    {
      "cell_type": "code",
      "execution_count": 2,
      "metadata": {
        "id": "rbRoPkkXUvmi"
      },
      "outputs": [],
      "source": [
        "# import the necessary packages\n",
        "import torch\n",
        "import os\n",
        "import cv2\n",
        "import tqdm as tqdm\n",
        "import matplotlib.pyplot as plt\n",
        "import numpy as np\n",
        "import time\n",
        "import glob\n",
        "import pandas as pd\n",
        "import multiprocessing as mp\n",
        "import timm\n",
        "import torchvision.transforms.functional as VisionF\n",
        "import skimage.io as io\n",
        "import seaborn as sns\n",
        "import wandb\n",
        "import typing \n",
        "import albumentations as A\n",
        "\n",
        "from imutils import paths\n",
        "from torch.nn import ConvTranspose2d\n",
        "from torch.nn import Conv2d, MaxPool2d\n",
        "from torch.nn import Module, ModuleList\n",
        "from torch.nn import ReLU, BatchNorm2d\n",
        "from torch.nn import BCEWithLogitsLoss, CrossEntropyLoss\n",
        "from torch.optim import Adam\n",
        "from torchvision import transforms\n",
        "from torchvision.transforms import CenterCrop, RandomRotation, RandomVerticalFlip\n",
        "from torch.nn import functional as F\n",
        "from torchvision.utils import make_grid\n",
        "from torch.utils.data import DataLoader,Dataset\n",
        "from sklearn.model_selection import train_test_split\n",
        "from sklearn.metrics import precision_score, recall_score, f1_score, confusion_matrix, classification_report\n",
        "from fastai.vision import *\n",
        "from fastai.callback import *\n",
        "from PIL import Image\n",
        "from glob import glob\n",
        "from fastprogress.fastprogress import master_bar, progress_bar\n",
        "from torch.autograd import Variable\n",
        "from tqdm import tqdm\n"
      ]
    },
    {
      "cell_type": "code",
      "source": [
        "wandb.init(project=\"my-test-project\")"
      ],
      "metadata": {
        "colab": {
          "base_uri": "https://localhost:8080/",
          "height": 108
        },
        "id": "S7tL9reHaAAA",
        "outputId": "210cbe91-1456-48a1-9099-76a17bf02d66"
      },
      "execution_count": 3,
      "outputs": [
        {
          "output_type": "stream",
          "name": "stderr",
          "text": [
            "\u001b[34m\u001b[1mwandb\u001b[0m: Currently logged in as: \u001b[33mpdthinh1995\u001b[0m. Use \u001b[1m`wandb login --relogin`\u001b[0m to force relogin\n"
          ]
        },
        {
          "output_type": "display_data",
          "data": {
            "text/plain": [
              "<IPython.core.display.HTML object>"
            ],
            "text/html": [
              "Tracking run with wandb version 0.12.21"
            ]
          },
          "metadata": {}
        },
        {
          "output_type": "display_data",
          "data": {
            "text/plain": [
              "<IPython.core.display.HTML object>"
            ],
            "text/html": [
              "Run data is saved locally in <code>/content/wandb/run-20220721_203446-quwxy89c</code>"
            ]
          },
          "metadata": {}
        },
        {
          "output_type": "display_data",
          "data": {
            "text/plain": [
              "<IPython.core.display.HTML object>"
            ],
            "text/html": [
              "Syncing run <strong><a href=\"https://wandb.ai/pdthinh1995/my-test-project/runs/quwxy89c\" target=\"_blank\">polished-leaf-7</a></strong> to <a href=\"https://wandb.ai/pdthinh1995/my-test-project\" target=\"_blank\">Weights & Biases</a> (<a href=\"https://wandb.me/run\" target=\"_blank\">docs</a>)<br/>"
            ]
          },
          "metadata": {}
        },
        {
          "output_type": "execute_result",
          "data": {
            "text/html": [
              "<button onClick=\"this.nextSibling.style.display='block';this.style.display='none';\">Display W&B run</button><iframe src=\"https://wandb.ai/pdthinh1995/my-test-project/runs/quwxy89c?jupyter=true\" style=\"border:none;width:100%;height:420px;display:none;\"></iframe>"
            ],
            "text/plain": [
              "<wandb.sdk.wandb_run.Run at 0x7fc9587bb5d0>"
            ]
          },
          "metadata": {},
          "execution_count": 3
        }
      ]
    },
    {
      "cell_type": "code",
      "source": [
        "from google.colab import drive\n",
        "drive.mount('/content/drive')"
      ],
      "metadata": {
        "colab": {
          "base_uri": "https://localhost:8080/"
        },
        "id": "o3yr_NjjU5Tj",
        "outputId": "97885f57-e7dc-42fb-90bb-3571231d774d"
      },
      "execution_count": 4,
      "outputs": [
        {
          "output_type": "stream",
          "name": "stdout",
          "text": [
            "Drive already mounted at /content/drive; to attempt to forcibly remount, call drive.mount(\"/content/drive\", force_remount=True).\n"
          ]
        }
      ]
    },
    {
      "cell_type": "code",
      "source": [
        "# define the path to the images and masks dataset\n",
        "DATASET_PATH = \"/content/drive/MyDrive/metal_nut\"\n",
        "IMAGE_DATASET_PATH = os.path.join(\"/content/drive/MyDrive/metal_nut/train/good\")\n",
        "IMAGE_TEST_PATH = os.path.join(\"/content/drive/MyDrive/metal_nut/test\")\n",
        "MASK_DATASET_PATH = os.path.join(\"/content/drive/MyDrive/metal_nut/ground_truth\")"
      ],
      "metadata": {
        "id": "S6IeQ969VKAL"
      },
      "execution_count": 5,
      "outputs": []
    },
    {
      "cell_type": "markdown",
      "source": [
        "PRE-PROCESSING DATA"
      ],
      "metadata": {
        "id": "driM7Vr_DTkv"
      }
    },
    {
      "cell_type": "code",
      "source": [
        "def find_files(directory, file_format):\n",
        "    \"\"\" \n",
        "    input = directory (path)\n",
        "    input = file_format './*.png'\n",
        "    outpur = list of files\n",
        "    \"\"\"\n",
        "    files=glob(os.path.join(directory,file_format))\n",
        "    return files\n",
        "\n",
        "img_files=find_files(IMAGE_DATASET_PATH,'*.png') "
      ],
      "metadata": {
        "id": "-tgemgrn2urR"
      },
      "execution_count": 6,
      "outputs": []
    },
    {
      "cell_type": "code",
      "source": [
        "dirs = os.listdir(IMAGE_TEST_PATH)\n",
        "\n",
        "vid_dirs= glob(os.path.join(IMAGE_TEST_PATH,'*'))\n",
        "for i in range(len(vid_dirs)):\n",
        "    vid_dirs[i] = vid_dirs[i].replace('\\\\', '/')\n",
        "\n",
        "gtruth = glob(os.path.join(MASK_DATASET_PATH,'*'))\n",
        "for i in range(len(gtruth)):\n",
        "    gtruth[i] = gtruth[i].replace('\\\\', '/')"
      ],
      "metadata": {
        "id": "EYfyqNEG2un7"
      },
      "execution_count": 7,
      "outputs": []
    },
    {
      "cell_type": "code",
      "source": [
        "### Purpose: Split into \"good\" and \"damaged\" dataset for classification\n",
        "metal_good=[]\n",
        "metal_damaged=[]\n",
        "mask_truth=[]\n",
        "for i in range(len(vid_dirs)):\n",
        "  if (vid_dirs[i].split('/')[-1])!='good':\n",
        "    metal_damaged+=find_files(vid_dirs[i],'*.png')\n",
        "  else:\n",
        "    metal_good+=(find_files(IMAGE_DATASET_PATH,'*.png'))\n",
        "for i in range(len(gtruth)):\n",
        "  mask_truth+=find_files(gtruth[i],'*.png')"
      ],
      "metadata": {
        "id": "QjBuLMEv2uUg"
      },
      "execution_count": 8,
      "outputs": []
    },
    {
      "cell_type": "code",
      "source": [
        "df_good = pd.DataFrame([])\n",
        "df_good['imgs'] = metal_good\n",
        "df_good['estimate'] = 'good'\n",
        "df_good['tag'] = 1\n",
        "df_damaged = pd.DataFrame([])\n",
        "df_damaged['imgs'] = metal_damaged\n",
        "df_damaged['estimate'] = 'dammaged'\n",
        "df_damaged['tag'] = 0\n",
        "df_=pd.concat([df_good,df_damaged],axis=0)"
      ],
      "metadata": {
        "id": "V-qUKfky_uTD"
      },
      "execution_count": 9,
      "outputs": []
    },
    {
      "cell_type": "code",
      "source": [
        "metal_damaged.sort()\n",
        "mask_truth.sort()"
      ],
      "metadata": {
        "id": "anvuUycqEY1f"
      },
      "execution_count": 10,
      "outputs": []
    },
    {
      "cell_type": "code",
      "source": [
        "df_segmentation = pd.DataFrame([])\n",
        "df_segmentation['imgs'] = metal_damaged\n",
        "df_segmentation['mask'] = mask_truth\n",
        "df_segmentation['estimate'] = 'dammaged'\n",
        "df_segmentation['tag'] = 0\n",
        "df_segmentation.to_csv('./segmentation.csv',header=True,index=False)"
      ],
      "metadata": {
        "id": "ZsFcuOnH8iGV"
      },
      "execution_count": 11,
      "outputs": []
    },
    {
      "cell_type": "code",
      "source": [
        "X_train, X_val, y_train, y_val = train_test_split(list(df_['imgs']), list(df_['tag']), test_size = 0.1, random_state=42,shuffle=True)"
      ],
      "metadata": {
        "id": "pldwhX7sBtEn"
      },
      "execution_count": 12,
      "outputs": []
    },
    {
      "cell_type": "code",
      "source": [
        "df_train = pd.DataFrame([])\n",
        "df_train['imgs'] = X_train\n",
        "df_train['target'] = y_train\n",
        "df_train['is_valid'] = False\n",
        "df_val = pd.DataFrame([])\n",
        "df_val['imgs'] = X_val\n",
        "df_val['target'] = y_val\n",
        "df_val['is_valid'] = True\n",
        "df_anno = pd.concat([df_train,df_val],axis=0)\n",
        "df_anno.to_csv('./annotation.csv',header=True,index=False)"
      ],
      "metadata": {
        "id": "QbqA91tOCXVj"
      },
      "execution_count": 13,
      "outputs": []
    },
    {
      "cell_type": "markdown",
      "source": [
        "CLASSIFICATION IN GOOD OR DAMAGED"
      ],
      "metadata": {
        "id": "EnGV0o2iDe-Z"
      }
    },
    {
      "cell_type": "code",
      "source": [
        "if torch.cuda.is_available():\n",
        "    device = torch.device('cuda')\n",
        "else:\n",
        "    device = torch.device('cpu')\n",
        "device"
      ],
      "metadata": {
        "colab": {
          "base_uri": "https://localhost:8080/"
        },
        "id": "Kov8_Y3wFuML",
        "outputId": "7f029f98-8461-4fec-a0c3-1d537bf34e5a"
      },
      "execution_count": 14,
      "outputs": [
        {
          "output_type": "execute_result",
          "data": {
            "text/plain": [
              "device(type='cpu')"
            ]
          },
          "metadata": {},
          "execution_count": 14
        }
      ]
    },
    {
      "cell_type": "code",
      "source": [
        "config = {}\n",
        "\n",
        "config['size'] = 224\n",
        "config['rotation_degrees']=90\n",
        "config['angle_shear']=45\n",
        "config['num_classes'] = 2\n",
        "config['batch_size'] = 32\n",
        "config['num_workers'] = 0\n",
        "config['output_nodes'] = 2\n",
        "config['epochs'] = 100\n",
        "config['lr'] = 1e-3\n",
        "# Optimizer parameters                                                                 \n",
        "config['lr_step_size'] = 10              \n",
        "config['lr_gamma'] = 0.8   \n",
        "config['momentum'] = 0.9                             \n",
        "config['weight_decay'] = 0.05           "
      ],
      "metadata": {
        "id": "nub9oFsHDPcr"
      },
      "execution_count": 15,
      "outputs": []
    },
    {
      "cell_type": "code",
      "source": [
        "df_data = pd.read_csv('./annotation.csv')\n",
        "df_data.head()"
      ],
      "metadata": {
        "colab": {
          "base_uri": "https://localhost:8080/",
          "height": 206
        },
        "id": "IyK_EPHVFkci",
        "outputId": "39426ecf-eba6-42dc-e122-40a3f8357587"
      },
      "execution_count": 16,
      "outputs": [
        {
          "output_type": "execute_result",
          "data": {
            "text/plain": [
              "                                                imgs  target  is_valid\n",
              "0  /content/drive/MyDrive/metal_nut/train/good/04...       1     False\n",
              "1  /content/drive/MyDrive/metal_nut/train/good/10...       1     False\n",
              "2  /content/drive/MyDrive/metal_nut/train/good/01...       1     False\n",
              "3  /content/drive/MyDrive/metal_nut/train/good/08...       1     False\n",
              "4  /content/drive/MyDrive/metal_nut/test/scratch/...       0     False"
            ],
            "text/html": [
              "\n",
              "  <div id=\"df-68034970-9870-4f97-bb82-04817abba7b2\">\n",
              "    <div class=\"colab-df-container\">\n",
              "      <div>\n",
              "<style scoped>\n",
              "    .dataframe tbody tr th:only-of-type {\n",
              "        vertical-align: middle;\n",
              "    }\n",
              "\n",
              "    .dataframe tbody tr th {\n",
              "        vertical-align: top;\n",
              "    }\n",
              "\n",
              "    .dataframe thead th {\n",
              "        text-align: right;\n",
              "    }\n",
              "</style>\n",
              "<table border=\"1\" class=\"dataframe\">\n",
              "  <thead>\n",
              "    <tr style=\"text-align: right;\">\n",
              "      <th></th>\n",
              "      <th>imgs</th>\n",
              "      <th>target</th>\n",
              "      <th>is_valid</th>\n",
              "    </tr>\n",
              "  </thead>\n",
              "  <tbody>\n",
              "    <tr>\n",
              "      <th>0</th>\n",
              "      <td>/content/drive/MyDrive/metal_nut/train/good/04...</td>\n",
              "      <td>1</td>\n",
              "      <td>False</td>\n",
              "    </tr>\n",
              "    <tr>\n",
              "      <th>1</th>\n",
              "      <td>/content/drive/MyDrive/metal_nut/train/good/10...</td>\n",
              "      <td>1</td>\n",
              "      <td>False</td>\n",
              "    </tr>\n",
              "    <tr>\n",
              "      <th>2</th>\n",
              "      <td>/content/drive/MyDrive/metal_nut/train/good/01...</td>\n",
              "      <td>1</td>\n",
              "      <td>False</td>\n",
              "    </tr>\n",
              "    <tr>\n",
              "      <th>3</th>\n",
              "      <td>/content/drive/MyDrive/metal_nut/train/good/08...</td>\n",
              "      <td>1</td>\n",
              "      <td>False</td>\n",
              "    </tr>\n",
              "    <tr>\n",
              "      <th>4</th>\n",
              "      <td>/content/drive/MyDrive/metal_nut/test/scratch/...</td>\n",
              "      <td>0</td>\n",
              "      <td>False</td>\n",
              "    </tr>\n",
              "  </tbody>\n",
              "</table>\n",
              "</div>\n",
              "      <button class=\"colab-df-convert\" onclick=\"convertToInteractive('df-68034970-9870-4f97-bb82-04817abba7b2')\"\n",
              "              title=\"Convert this dataframe to an interactive table.\"\n",
              "              style=\"display:none;\">\n",
              "        \n",
              "  <svg xmlns=\"http://www.w3.org/2000/svg\" height=\"24px\"viewBox=\"0 0 24 24\"\n",
              "       width=\"24px\">\n",
              "    <path d=\"M0 0h24v24H0V0z\" fill=\"none\"/>\n",
              "    <path d=\"M18.56 5.44l.94 2.06.94-2.06 2.06-.94-2.06-.94-.94-2.06-.94 2.06-2.06.94zm-11 1L8.5 8.5l.94-2.06 2.06-.94-2.06-.94L8.5 2.5l-.94 2.06-2.06.94zm10 10l.94 2.06.94-2.06 2.06-.94-2.06-.94-.94-2.06-.94 2.06-2.06.94z\"/><path d=\"M17.41 7.96l-1.37-1.37c-.4-.4-.92-.59-1.43-.59-.52 0-1.04.2-1.43.59L10.3 9.45l-7.72 7.72c-.78.78-.78 2.05 0 2.83L4 21.41c.39.39.9.59 1.41.59.51 0 1.02-.2 1.41-.59l7.78-7.78 2.81-2.81c.8-.78.8-2.07 0-2.86zM5.41 20L4 18.59l7.72-7.72 1.47 1.35L5.41 20z\"/>\n",
              "  </svg>\n",
              "      </button>\n",
              "      \n",
              "  <style>\n",
              "    .colab-df-container {\n",
              "      display:flex;\n",
              "      flex-wrap:wrap;\n",
              "      gap: 12px;\n",
              "    }\n",
              "\n",
              "    .colab-df-convert {\n",
              "      background-color: #E8F0FE;\n",
              "      border: none;\n",
              "      border-radius: 50%;\n",
              "      cursor: pointer;\n",
              "      display: none;\n",
              "      fill: #1967D2;\n",
              "      height: 32px;\n",
              "      padding: 0 0 0 0;\n",
              "      width: 32px;\n",
              "    }\n",
              "\n",
              "    .colab-df-convert:hover {\n",
              "      background-color: #E2EBFA;\n",
              "      box-shadow: 0px 1px 2px rgba(60, 64, 67, 0.3), 0px 1px 3px 1px rgba(60, 64, 67, 0.15);\n",
              "      fill: #174EA6;\n",
              "    }\n",
              "\n",
              "    [theme=dark] .colab-df-convert {\n",
              "      background-color: #3B4455;\n",
              "      fill: #D2E3FC;\n",
              "    }\n",
              "\n",
              "    [theme=dark] .colab-df-convert:hover {\n",
              "      background-color: #434B5C;\n",
              "      box-shadow: 0px 1px 3px 1px rgba(0, 0, 0, 0.15);\n",
              "      filter: drop-shadow(0px 1px 2px rgba(0, 0, 0, 0.3));\n",
              "      fill: #FFFFFF;\n",
              "    }\n",
              "  </style>\n",
              "\n",
              "      <script>\n",
              "        const buttonEl =\n",
              "          document.querySelector('#df-68034970-9870-4f97-bb82-04817abba7b2 button.colab-df-convert');\n",
              "        buttonEl.style.display =\n",
              "          google.colab.kernel.accessAllowed ? 'block' : 'none';\n",
              "\n",
              "        async function convertToInteractive(key) {\n",
              "          const element = document.querySelector('#df-68034970-9870-4f97-bb82-04817abba7b2');\n",
              "          const dataTable =\n",
              "            await google.colab.kernel.invokeFunction('convertToInteractive',\n",
              "                                                     [key], {});\n",
              "          if (!dataTable) return;\n",
              "\n",
              "          const docLinkHtml = 'Like what you see? Visit the ' +\n",
              "            '<a target=\"_blank\" href=https://colab.research.google.com/notebooks/data_table.ipynb>data table notebook</a>'\n",
              "            + ' to learn more about interactive tables.';\n",
              "          element.innerHTML = '';\n",
              "          dataTable['output_type'] = 'display_data';\n",
              "          await google.colab.output.renderOutput(dataTable, element);\n",
              "          const docLink = document.createElement('div');\n",
              "          docLink.innerHTML = docLinkHtml;\n",
              "          element.appendChild(docLink);\n",
              "        }\n",
              "      </script>\n",
              "    </div>\n",
              "  </div>\n",
              "  "
            ]
          },
          "metadata": {},
          "execution_count": 16
        }
      ]
    },
    {
      "cell_type": "code",
      "source": [
        "g = sns.countplot(df_data['target'])"
      ],
      "metadata": {
        "colab": {
          "base_uri": "https://localhost:8080/",
          "height": 334
        },
        "id": "Iee17VddQkwd",
        "outputId": "45e21d7a-80c6-4fab-94c0-06e7bc9bdc7d"
      },
      "execution_count": 17,
      "outputs": [
        {
          "output_type": "stream",
          "name": "stderr",
          "text": [
            "/usr/local/lib/python3.7/dist-packages/seaborn/_decorators.py:43: FutureWarning: Pass the following variable as a keyword arg: x. From version 0.12, the only valid positional argument will be `data`, and passing other arguments without an explicit keyword will result in an error or misinterpretation.\n",
            "  FutureWarning\n"
          ]
        },
        {
          "output_type": "display_data",
          "data": {
            "text/plain": [
              "<Figure size 432x288 with 1 Axes>"
            ],
            "image/png": "[encoded data removed]"
          },
          "metadata": {
            "needs_background": "light"
          }
        }
      ]
    },
    {
      "cell_type": "code",
      "source": [
        "class GaussianNoise(object):\n",
        "    def __init__(self, mean=0., std=1.):\n",
        "        self.std = std\n",
        "        self.mean = mean\n",
        "        \n",
        "    def __call__(self, tensor):\n",
        "        return tensor + torch.randn(tensor.size()) * self.std + self.mean\n",
        "    \n",
        "    def __repr__(self):\n",
        "        return self.__class__.__name__ + '(mean={0}, std={1})'.format(self.mean, self.std)"
      ],
      "metadata": {
        "id": "dTEhOpVCQSW8"
      },
      "execution_count": 18,
      "outputs": []
    },
    {
      "cell_type": "code",
      "source": [
        "mean = [0.485, 0.456, 0.406]                                               \n",
        "std = [0.229, 0.224, 0.225]\n",
        "\n",
        "train_transform = transforms.Compose([\n",
        "    transforms.Resize((config['size'],config['size'])),\n",
        "    transforms.RandomRotation(degrees=config['rotation_degrees']),\n",
        "    transforms.RandomAffine(degrees=(30, 60),shear=config['angle_shear']),\n",
        "    transforms.ToTensor(),\n",
        "    GaussianNoise(0.05, 0.2),\n",
        "    transforms.Normalize(mean, std)])\n",
        "\n",
        "valid_transform = transforms.Compose([\n",
        "    transforms.Resize((config['size'],config['size'])),\n",
        "    transforms.ToTensor(),\n",
        "    transforms.Normalize(mean, std)])\n",
        "\n",
        "class METALNUTDataset(Dataset):                                                   \n",
        "    \n",
        "    def __init__(self, df, transform):\n",
        "        \"\"\"\n",
        "        df: is the dataframe annotation image and attribute\n",
        "        transform: transform augmentation\n",
        "        \"\"\"\n",
        "        self.df = df\n",
        "        self.transform = transform\n",
        "        self.image = list(self.df['imgs'])        \n",
        "        self.target = list(self.df['target'])\n",
        "\n",
        "    def __getitem__(self, idx):\n",
        "        \n",
        "        img_path = self.image[idx]\n",
        "        img_arr = cv2.imread(img_path)\n",
        "        img = Image.fromarray(img_arr)\n",
        "        img = self.transform(img)\n",
        "\n",
        "        target = torch.tensor(int(self.target[idx]))\n",
        "        target = target.type(torch.LongTensor)\n",
        "\n",
        "        return img, target\n",
        "    \n",
        "    def __len__(self):\n",
        "        return len(self.df)"
      ],
      "metadata": {
        "id": "q7SUYTcLF4si"
      },
      "execution_count": 19,
      "outputs": []
    },
    {
      "cell_type": "code",
      "source": [
        "train_ds = METALNUTDataset(df=df_data[df_data['is_valid']==False] , transform = train_transform)\n",
        "valid_ds = METALNUTDataset(df=df_data[df_data['is_valid']==True] , transform = valid_transform)\n",
        "train_dl = DataLoader(train_ds, config['batch_size'], config['num_workers'])    \n",
        "valid_dl = DataLoader(valid_ds, config['batch_size'], config['num_workers'])"
      ],
      "metadata": {
        "id": "NzWgN2epHN2F"
      },
      "execution_count": 20,
      "outputs": []
    },
    {
      "cell_type": "code",
      "source": [
        "def show_batch(inp, title=None):\n",
        "    \"\"\"Imshow for Tensor\"\"\"\n",
        "    inp = inp.numpy().transpose((1, 2, 0))\n",
        "    mean = np.array([0.485, 0.456, 0.406])\n",
        "    std = np.array([0.229, 0.224, 0.225])\n",
        "    inp = std * inp + mean\n",
        "    inp = np.clip(inp, 0, 1)\n",
        "    fig=plt.figure(figsize=(8, 8))\n",
        "    plt.imshow(inp)\n",
        "    if title is not None:\n",
        "        plt.title(title)\n",
        "    plt.pause(0.001)\n",
        "def show(imgs):\n",
        "  if not isinstance(imgs, list):\n",
        "      imgs = [imgs]\n",
        "  fix, axs = plt.subplots(ncols=len(imgs), squeeze=False)\n",
        "  for i, img in enumerate(imgs):\n",
        "      img = img.detach()\n",
        "      img = VisionF.to_pil_image(img)\n",
        "      axs[0, i].imshow(np.asarray(img))\n",
        "      axs[0, i].set(xticklabels=[], yticklabels=[], xticks=[], yticks=[])"
      ],
      "metadata": {
        "id": "maG0fzZbHNkV"
      },
      "execution_count": 21,
      "outputs": []
    },
    {
      "cell_type": "code",
      "source": [
        "for x, labels in train_dl:\n",
        "  img_grid = make_grid(x, normalize=True)\n",
        "show(img_grid)"
      ],
      "metadata": {
        "colab": {
          "base_uri": "https://localhost:8080/",
          "height": 202
        },
        "id": "wTr8BJfsH6yx",
        "outputId": "cd37acb2-f10e-4f11-eba8-7775e4a8d4cd"
      },
      "execution_count": 22,
      "outputs": [
        {
          "output_type": "display_data",
          "data": {
            "text/plain": [
              "<Figure size 432x288 with 1 Axes>"
            ],
            "image/png": "[encoded data removed]"
          },
          "metadata": {}
        }
      ]
    },
    {
      "cell_type": "code",
      "source": [
        "for x, y in train_dl:                                                   #WHY?\n",
        "    print(x.shape)\n",
        "    print(y)\n",
        "    break"
      ],
      "metadata": {
        "colab": {
          "base_uri": "https://localhost:8080/"
        },
        "id": "XIDl_1c5MubJ",
        "outputId": "3b1e5147-0924-4866-f8ae-ee4796b51e11"
      },
      "execution_count": 23,
      "outputs": [
        {
          "output_type": "stream",
          "name": "stdout",
          "text": [
            "torch.Size([32, 3, 224, 224])\n",
            "tensor([1, 1, 1, 1, 0, 1, 1, 1, 1, 1, 1, 1, 1, 0, 0, 0, 1, 0, 1, 1, 1, 0, 1, 1,\n",
            "        1, 1, 1, 1, 0, 0, 0, 1])\n"
          ]
        }
      ]
    },
    {
      "cell_type": "code",
      "source": [
        "model = torch.nn.Sequential(timm.create_model('resnet18',pretrained=True,num_classes = config['num_classes']))\n",
        "model.to(device)"
      ],
      "metadata": {
        "colab": {
          "base_uri": "https://localhost:8080/"
        },
        "id": "XlbpFcrMM5yo",
        "outputId": "8164ea19-8f50-404e-c091-58f59cf946c8"
      },
      "execution_count": 24,
      "outputs": [
        {
          "output_type": "execute_result",
          "data": {
            "text/plain": [
              "Sequential(\n",
              "  (0): ResNet(\n",
              "    (conv1): Conv2d(3, 64, kernel_size=(7, 7), stride=(2, 2), padding=(3, 3), bias=False)\n",
              "    (bn1): BatchNorm2d(64, eps=1e-05, momentum=0.1, affine=True, track_running_stats=True)\n",
              "    (act1): ReLU(inplace=True)\n",
              "    (maxpool): MaxPool2d(kernel_size=3, stride=2, padding=1, dilation=1, ceil_mode=False)\n",
              "    (layer1): Sequential(\n",
              "      (0): BasicBlock(\n",
              "        (conv1): Conv2d(64, 64, kernel_size=(3, 3), stride=(1, 1), padding=(1, 1), bias=False)\n",
              "        (bn1): BatchNorm2d(64, eps=1e-05, momentum=0.1, affine=True, track_running_stats=True)\n",
              "        (drop_block): Identity()\n",
              "        (act1): ReLU(inplace=True)\n",
              "        (aa): Identity()\n",
              "        (conv2): Conv2d(64, 64, kernel_size=(3, 3), stride=(1, 1), padding=(1, 1), bias=False)\n",
              "        (bn2): BatchNorm2d(64, eps=1e-05, momentum=0.1, affine=True, track_running_stats=True)\n",
              "        (act2): ReLU(inplace=True)\n",
              "      )\n",
              "      (1): BasicBlock(\n",
              "        (conv1): Conv2d(64, 64, kernel_size=(3, 3), stride=(1, 1), padding=(1, 1), bias=False)\n",
              "        (bn1): BatchNorm2d(64, eps=1e-05, momentum=0.1, affine=True, track_running_stats=True)\n",
              "        (drop_block): Identity()\n",
              "        (act1): ReLU(inplace=True)\n",
              "        (aa): Identity()\n",
              "        (conv2): Conv2d(64, 64, kernel_size=(3, 3), stride=(1, 1), padding=(1, 1), bias=False)\n",
              "        (bn2): BatchNorm2d(64, eps=1e-05, momentum=0.1, affine=True, track_running_stats=True)\n",
              "        (act2): ReLU(inplace=True)\n",
              "      )\n",
              "    )\n",
              "    (layer2): Sequential(\n",
              "      (0): BasicBlock(\n",
              "        (conv1): Conv2d(64, 128, kernel_size=(3, 3), stride=(2, 2), padding=(1, 1), bias=False)\n",
              "        (bn1): BatchNorm2d(128, eps=1e-05, momentum=0.1, affine=True, track_running_stats=True)\n",
              "        (drop_block): Identity()\n",
              "        (act1): ReLU(inplace=True)\n",
              "        (aa): Identity()\n",
              "        (conv2): Conv2d(128, 128, kernel_size=(3, 3), stride=(1, 1), padding=(1, 1), bias=False)\n",
              "        (bn2): BatchNorm2d(128, eps=1e-05, momentum=0.1, affine=True, track_running_stats=True)\n",
              "        (act2): ReLU(inplace=True)\n",
              "        (downsample): Sequential(\n",
              "          (0): Conv2d(64, 128, kernel_size=(1, 1), stride=(2, 2), bias=False)\n",
              "          (1): BatchNorm2d(128, eps=1e-05, momentum=0.1, affine=True, track_running_stats=True)\n",
              "        )\n",
              "      )\n",
              "      (1): BasicBlock(\n",
              "        (conv1): Conv2d(128, 128, kernel_size=(3, 3), stride=(1, 1), padding=(1, 1), bias=False)\n",
              "        (bn1): BatchNorm2d(128, eps=1e-05, momentum=0.1, affine=True, track_running_stats=True)\n",
              "        (drop_block): Identity()\n",
              "        (act1): ReLU(inplace=True)\n",
              "        (aa): Identity()\n",
              "        (conv2): Conv2d(128, 128, kernel_size=(3, 3), stride=(1, 1), padding=(1, 1), bias=False)\n",
              "        (bn2): BatchNorm2d(128, eps=1e-05, momentum=0.1, affine=True, track_running_stats=True)\n",
              "        (act2): ReLU(inplace=True)\n",
              "      )\n",
              "    )\n",
              "    (layer3): Sequential(\n",
              "      (0): BasicBlock(\n",
              "        (conv1): Conv2d(128, 256, kernel_size=(3, 3), stride=(2, 2), padding=(1, 1), bias=False)\n",
              "        (bn1): BatchNorm2d(256, eps=1e-05, momentum=0.1, affine=True, track_running_stats=True)\n",
              "        (drop_block): Identity()\n",
              "        (act1): ReLU(inplace=True)\n",
              "        (aa): Identity()\n",
              "        (conv2): Conv2d(256, 256, kernel_size=(3, 3), stride=(1, 1), padding=(1, 1), bias=False)\n",
              "        (bn2): BatchNorm2d(256, eps=1e-05, momentum=0.1, affine=True, track_running_stats=True)\n",
              "        (act2): ReLU(inplace=True)\n",
              "        (downsample): Sequential(\n",
              "          (0): Conv2d(128, 256, kernel_size=(1, 1), stride=(2, 2), bias=False)\n",
              "          (1): BatchNorm2d(256, eps=1e-05, momentum=0.1, affine=True, track_running_stats=True)\n",
              "        )\n",
              "      )\n",
              "      (1): BasicBlock(\n",
              "        (conv1): Conv2d(256, 256, kernel_size=(3, 3), stride=(1, 1), padding=(1, 1), bias=False)\n",
              "        (bn1): BatchNorm2d(256, eps=1e-05, momentum=0.1, affine=True, track_running_stats=True)\n",
              "        (drop_block): Identity()\n",
              "        (act1): ReLU(inplace=True)\n",
              "        (aa): Identity()\n",
              "        (conv2): Conv2d(256, 256, kernel_size=(3, 3), stride=(1, 1), padding=(1, 1), bias=False)\n",
              "        (bn2): BatchNorm2d(256, eps=1e-05, momentum=0.1, affine=True, track_running_stats=True)\n",
              "        (act2): ReLU(inplace=True)\n",
              "      )\n",
              "    )\n",
              "    (layer4): Sequential(\n",
              "      (0): BasicBlock(\n",
              "        (conv1): Conv2d(256, 512, kernel_size=(3, 3), stride=(2, 2), padding=(1, 1), bias=False)\n",
              "        (bn1): BatchNorm2d(512, eps=1e-05, momentum=0.1, affine=True, track_running_stats=True)\n",
              "        (drop_block): Identity()\n",
              "        (act1): ReLU(inplace=True)\n",
              "        (aa): Identity()\n",
              "        (conv2): Conv2d(512, 512, kernel_size=(3, 3), stride=(1, 1), padding=(1, 1), bias=False)\n",
              "        (bn2): BatchNorm2d(512, eps=1e-05, momentum=0.1, affine=True, track_running_stats=True)\n",
              "        (act2): ReLU(inplace=True)\n",
              "        (downsample): Sequential(\n",
              "          (0): Conv2d(256, 512, kernel_size=(1, 1), stride=(2, 2), bias=False)\n",
              "          (1): BatchNorm2d(512, eps=1e-05, momentum=0.1, affine=True, track_running_stats=True)\n",
              "        )\n",
              "      )\n",
              "      (1): BasicBlock(\n",
              "        (conv1): Conv2d(512, 512, kernel_size=(3, 3), stride=(1, 1), padding=(1, 1), bias=False)\n",
              "        (bn1): BatchNorm2d(512, eps=1e-05, momentum=0.1, affine=True, track_running_stats=True)\n",
              "        (drop_block): Identity()\n",
              "        (act1): ReLU(inplace=True)\n",
              "        (aa): Identity()\n",
              "        (conv2): Conv2d(512, 512, kernel_size=(3, 3), stride=(1, 1), padding=(1, 1), bias=False)\n",
              "        (bn2): BatchNorm2d(512, eps=1e-05, momentum=0.1, affine=True, track_running_stats=True)\n",
              "        (act2): ReLU(inplace=True)\n",
              "      )\n",
              "    )\n",
              "    (global_pool): SelectAdaptivePool2d (pool_type=avg, flatten=Flatten(start_dim=1, end_dim=-1))\n",
              "    (fc): Linear(in_features=512, out_features=2, bias=True)\n",
              "  )\n",
              ")"
            ]
          },
          "metadata": {},
          "execution_count": 24
        }
      ]
    },
    {
      "cell_type": "code",
      "source": [
        "model(x.to(device)).shape"
      ],
      "metadata": {
        "colab": {
          "base_uri": "https://localhost:8080/"
        },
        "id": "XVQKkPQSNZAZ",
        "outputId": "8da1fd88-b8d6-4917-9211-5f1cec64b57e"
      },
      "execution_count": 25,
      "outputs": [
        {
          "output_type": "execute_result",
          "data": {
            "text/plain": [
              "torch.Size([32, 2])"
            ]
          },
          "metadata": {},
          "execution_count": 25
        }
      ]
    },
    {
      "cell_type": "code",
      "source": [
        "class FocalLoss(torch.nn.Module):\n",
        "    def __init__(self, gamma=1, alpha=None, size_average=True):\n",
        "        super(FocalLoss, self).__init__()\n",
        "        self.gamma = gamma\n",
        "        self.alpha = alpha\n",
        "        if isinstance(alpha,(float,int,int)): self.alpha = torch.Tensor([alpha,1-alpha]) #TODO\n",
        "        if isinstance(alpha,list): self.alpha = torch.Tensor(alpha)\n",
        "        self.size_average = size_average\n",
        "\n",
        "    def forward(self, input, target):\n",
        "        if input.dim()>2:\n",
        "            input = input.view(input.size(0),input.size(1),-1)  # N,C,H,W => N,C,H*W\n",
        "            input = input.transpose(1,2)    # N,C,H*W => N,H*W,C\n",
        "            input = input.contiguous().view(-1,input.size(2))   # N,H*W,C => N*H*W,C\n",
        "        target = target.view(-1,1)\n",
        "\n",
        "        logpt = F.log_softmax(input)\n",
        "        logpt = logpt.gather(1,target)\n",
        "        logpt = logpt.view(-1)\n",
        "        pt = Variable(logpt.data.exp())\n",
        "\n",
        "        if self.alpha is not None:\n",
        "            if self.alpha.type()!=input.data.type():\n",
        "                self.alpha = self.alpha.type_as(input.data)\n",
        "            at = self.alpha.gather(0,target.data.view(-1))\n",
        "            logpt = logpt * Variable(at)\n",
        "\n",
        "        loss = -1 * (1-pt)**self.gamma * logpt\n",
        "        if self.size_average: return loss.mean()\n",
        "        else: return loss.sum()"
      ],
      "metadata": {
        "id": "iSDxQhN9V8jC"
      },
      "execution_count": 26,
      "outputs": []
    },
    {
      "cell_type": "code",
      "source": [
        "def calculate_metrics(pred, target):\n",
        "    pred = np.argmax(pred, axis=1)\n",
        "#     target = np.argmax(target, axis=1)\n",
        "    return {'micro/precision': precision_score(y_true=target, y_pred=pred, average='micro'),\n",
        "            'micro/recall': recall_score(y_true=target, y_pred=pred, average='micro'),\n",
        "            'micro/f1': f1_score(y_true=target, y_pred=pred, average='micro'),\n",
        "            'macro/precision': precision_score(y_true=target, y_pred=pred, average='macro'),\n",
        "            'macro/recall': recall_score(y_true=target, y_pred=pred, average='macro'),\n",
        "            'macro/f1': f1_score(y_true=target, y_pred=pred, average='macro')\n",
        "           }"
      ],
      "metadata": {
        "id": "V0BF_cZoNmJJ"
      },
      "execution_count": 27,
      "outputs": []
    },
    {
      "cell_type": "code",
      "source": [
        "def train_one_epoch(model: torch.nn.Module, criterion: torch.nn.Module,                                           \n",
        "                    data_loader, optimizer: torch.optim.Optimizer,\n",
        "                    device: torch.device, mb):\n",
        "    model.train()\n",
        "    losses = []\n",
        "\n",
        "    for samples, targets in progress_bar(data_loader, parent = mb):\n",
        "        batch_size = targets.size(0)\n",
        "        samples = samples.to(device, non_blocking=True)\n",
        "        targets = targets.to(device, non_blocking=True)  \n",
        "        outputs = model(samples)                          \n",
        "        loss = criterion(outputs, targets)\n",
        "        loss_value = loss.item()\n",
        "        losses.append(loss_value)\n",
        "        optimizer.zero_grad()      \n",
        "        loss.backward()\n",
        "        optimizer.step()\n",
        "    \n",
        "    return np.mean(losses)\n",
        "\n",
        "def evaluate(model, criterion, data_loader, device):                                                      \n",
        "    model.eval()\n",
        "    losses = []\n",
        "    list_outputs = []\n",
        "    list_targets = []\n",
        "    with torch.no_grad():\n",
        "        for samples, targets in progress_bar(data_loader):\n",
        "            batch_size = targets.size(0)\n",
        "\n",
        "            samples = samples.to(device, non_blocking=True)\n",
        "            targets = targets.to(device, non_blocking=True)        \n",
        "            \n",
        "            outputs = model(samples)\n",
        "            loss = criterion(outputs, targets)\n",
        "            loss_value = loss.item()\n",
        "            losses.append(loss_value)\n",
        "            targets = targets.cpu().numpy()\n",
        "            outputs = outputs.cpu().numpy()\n",
        "            list_outputs += list(outputs)\n",
        "            list_targets += list(targets)\n",
        "        metric = calculate_metrics(np.array(list_outputs), np.array(list_targets))\n",
        "    return np.mean(losses), metric"
      ],
      "metadata": {
        "id": "Z6d2tK9eNrMQ"
      },
      "execution_count": 28,
      "outputs": []
    },
    {
      "cell_type": "code",
      "source": [
        "def inference(model, data_loader, device):                                               #WHY?       giống evaluate\n",
        "    model.eval()\n",
        "    list_outputs = []\n",
        "    list_targets = []\n",
        "    list_outputs_1 = []\n",
        "    list_array_max_val = []\n",
        "    with torch.no_grad():\n",
        "        for x,targets in progress_bar(data_loader):\n",
        "            batch_size = targets.size(0)\n",
        "\n",
        "            x1=x.to(device, non_blocking=True)\n",
        "            targets = targets.to(device, non_blocking=True) \n",
        "            targets = targets.type(torch.LongTensor)\n",
        "            \n",
        "            model.to(device)\n",
        "            outputs = model(x1)\n",
        "            outputs_1 = torch.nn.functional.softmax(outputs).tolist()\n",
        "            targets = targets.cpu().numpy()\n",
        "            array_max_val = np.amax(torch.nn.functional.softmax(outputs).cpu().numpy(), axis=1)\n",
        "            outputs = np.argmax(torch.nn.functional.softmax(outputs).cpu().numpy(),axis=1)\n",
        "\n",
        "\n",
        "            list_outputs_1 += list(outputs_1)\n",
        "            list_outputs += list(outputs)\n",
        "            list_targets += list(targets)\n",
        "            list_array_max_val +=list(array_max_val)\n",
        "    return list_outputs_1, list_outputs, list_targets, list_array_max_val"
      ],
      "metadata": {
        "id": "PaJSwDhjOhh4"
      },
      "execution_count": 29,
      "outputs": []
    },
    {
      "cell_type": "code",
      "source": [
        "params = [p for p in model.parameters() if p.requires_grad]\n",
        "\n",
        "optimizer = torch.optim.SGD(params, \n",
        "                            lr = config['lr'], \n",
        "                            momentum=config['momentum'], \n",
        "                            weight_decay = config['weight_decay'])\n",
        "\n",
        "lr_scheduler = torch.optim.lr_scheduler.StepLR(optimizer,\n",
        "                                               step_size= config['lr_step_size'],\n",
        "                                               gamma=config['lr_gamma'])\n",
        "\n",
        "# criterion = torch.nn.CrossEntropyLoss()\n",
        "criterion=FocalLoss()"
      ],
      "metadata": {
        "id": "3GLr-hvNOycu"
      },
      "execution_count": 30,
      "outputs": []
    },
    {
      "cell_type": "code",
      "source": [
        "mb = master_bar(range(1, config['epochs']+1))\n",
        "\n",
        "for epoch in mb:\n",
        "    train_loss = train_one_epoch(model, criterion, train_dl, optimizer, device, mb)\n",
        "    wandb.log({\"train_loss\": train_loss})\n",
        "    lr_scheduler.step()\n",
        "    \n",
        "    print(f'Training epoch: {epoch}')\n",
        "    print(f'\\tTrain Loss: {train_loss:.3f}')\n",
        "    \n",
        "    if (epoch)%2==0:\n",
        "        valid_loss, valid_metric = evaluate(model, criterion, valid_dl, device)\n",
        "        wandb.log({\"valid_loss\": valid_loss})\n",
        "        print(f'\\tValid Loss: {valid_loss:.3f}')\n",
        "        print(f'\\tMetric: {valid_metric}')\n",
        "\n",
        "# wandb.config = {\n",
        "#   \"learning_rate\": config['lr'],\n",
        "#   \"epochs\": config['epochs'],\n",
        "#   \"batch_size\": config['size'] \n",
        "# }\n"
      ],
      "metadata": {
        "colab": {
          "base_uri": "https://localhost:8080/",
          "height": 129
        },
        "id": "YsVtaTmaO2wW",
        "outputId": "6d1eb04b-6603-4c73-d533-acd3d870b80c"
      },
      "execution_count": null,
      "outputs": [
        {
          "output_type": "display_data",
          "data": {
            "text/plain": [
              "<IPython.core.display.HTML object>"
            ],
            "text/html": [
              "\n",
              "<style>\n",
              "    /* Turns off some styling */\n",
              "    progress {\n",
              "        /* gets rid of default border in Firefox and Opera. */\n",
              "        border: none;\n",
              "        /* Needs to be in here for Safari polyfill so background images work as expected. */\n",
              "        background-size: auto;\n",
              "    }\n",
              "    .progress-bar-interrupted, .progress-bar-interrupted::-webkit-progress-bar {\n",
              "        background: #F44336;\n",
              "    }\n",
              "</style>\n"
            ]
          },
          "metadata": {}
        },
        {
          "output_type": "display_data",
          "data": {
            "text/plain": [
              "<IPython.core.display.HTML object>"
            ],
            "text/html": [
              "\n",
              "    <div>\n",
              "      <progress value='1' class='' max='100' style='width:300px; height:20px; vertical-align: middle;'></progress>\n",
              "      1.00% [1/100 01:26<2:22:40]\n",
              "    </div>\n",
              "    \n",
              "\n",
              "\n",
              "    <div>\n",
              "      <progress value='1' class='' max='9' style='width:300px; height:20px; vertical-align: middle;'></progress>\n",
              "      11.11% [1/9 00:10<01:24]\n",
              "    </div>\n",
              "    "
            ]
          },
          "metadata": {}
        },
        {
          "output_type": "stream",
          "name": "stderr",
          "text": [
            "/usr/local/lib/python3.7/dist-packages/ipykernel_launcher.py:17: UserWarning: Implicit dimension choice for log_softmax has been deprecated. Change the call to include dim=X as an argument.\n"
          ]
        },
        {
          "output_type": "stream",
          "name": "stdout",
          "text": [
            "Training epoch: 1\n",
            "\tTrain Loss: 0.334\n"
          ]
        }
      ]
    },
    {
      "cell_type": "code",
      "source": [
        "df_list = pd.DataFrame([])\n",
        "list_outputs_1, list_outputs, list_targets, list_array_max_val= inference(model, valid_dl, device)\n",
        "df_list['list_targets']=list_targets\n",
        "df_list['list_outputs']=list_outputs\n",
        "df_list['max_probability']=list_array_max_val\n",
        "df_list['list_outputs_1']=[np.array(item) for item in list_outputs_1]"
      ],
      "metadata": {
        "id": "Qdaxa5lxRGEI"
      },
      "execution_count": null,
      "outputs": []
    },
    {
      "cell_type": "code",
      "source": [
        "print(classification_report(list_outputs, list_targets))"
      ],
      "metadata": {
        "id": "iG0kiOj7RGfC"
      },
      "execution_count": null,
      "outputs": []
    },
    {
      "cell_type": "code",
      "source": [
        "import seaborn as sns\n",
        "C = confusion_matrix(list_targets, list_outputs)\n",
        "cmn = C / C.astype('float').sum(axis=1)\n",
        "fig, ax = plt.subplots(figsize=(10,10))\n",
        "sns.heatmap(cmn, annot=True, fmt='.2f')\n",
        "plt.ylabel('Actual')\n",
        "plt.xlabel('Predicted')\n",
        "plt.show(block=False)"
      ],
      "metadata": {
        "id": "qBJP_ynMRNCJ"
      },
      "execution_count": null,
      "outputs": []
    },
    {
      "cell_type": "markdown",
      "source": [
        "SEGMENTATION"
      ],
      "metadata": {
        "id": "p67NmWhwFhZS"
      }
    },
    {
      "cell_type": "code",
      "source": [
        "# define the test split\n",
        "VALID_SPLIT = 0.1\n",
        "# determine the device to be used for training and evaluation\n",
        "DEVICE = \"cuda\" if torch.cuda.is_available() else \"cpu\"\n",
        "# determine if we will be pinning memory during data loading\n",
        "PIN_MEMORY = True if DEVICE == \"cuda\" else False\n",
        "PIN_MEMORY"
      ],
      "metadata": {
        "id": "MkJ8oANwV36E"
      },
      "execution_count": null,
      "outputs": []
    },
    {
      "cell_type": "code",
      "source": [
        "###UNET Training segmentation\n",
        "# define the number of channels in the input, number of classes,\n",
        "# and number of levels in the U-Net model\n",
        "NUM_CHANNELS = 1\n",
        "NUM_CLASSES = 1\n",
        "NUM_LEVELS = 3\n",
        "# initialize learning rate, number of epochs to train for, and the\n",
        "# batch size\n",
        "INIT_LR = 0.001\n",
        "NUM_EPOCHS = 100\n",
        "BATCH_SIZE = 32\n",
        "# define the input image dimensions\n",
        "INPUT_IMAGE_WIDTH = config['size']\n",
        "INPUT_IMAGE_HEIGHT = config['size']\n",
        "# define threshold to filter weak predictions\n",
        "THRESHOLD = 0.5\n",
        "# define the path to the base output directory\n",
        "BASE_OUTPUT = \"output\"\n",
        "# define the path to the output serialized model, model training\n",
        "# plot, and testing image paths\n",
        "MODEL_PATH = os.path.join(BASE_OUTPUT, \"unet_tgs_salt.pth\")\n",
        "PLOT_PATH = os.path.sep.join([BASE_OUTPUT, \"plot.png\"])\n",
        "TEST_PATHS = os.path.sep.join([BASE_OUTPUT, \"test_paths.txt\"])"
      ],
      "metadata": {
        "id": "AecPIWOkWIh_"
      },
      "execution_count": null,
      "outputs": []
    },
    {
      "cell_type": "code",
      "source": [
        "# from locale import ABDAY_4\n",
        "# mean = [0.485, 0.456, 0.406]                                               \n",
        "# std = [0.229, 0.224, 0.225]\n",
        "\n",
        "# train_transform = transforms.Compose(\n",
        "#     [\n",
        "#         A.Resize(config['size'], config['size']),\n",
        "#         # A.ShiftScaleRotate(shift_limit=0.2, scale_limit=0.2, rotate_limit=30, p=0.5),\n",
        "#         A.RGBShift(r_shift_limit=25, g_shift_limit=25, b_shift_limit=25, p=0.5),\n",
        "#         A.RandomBrightnessContrast(brightness_limit=0.3, contrast_limit=0.3, p=0.5),\n",
        "#         A.Normalize(mean=(0.485, 0.456, 0.406), std=(0.229, 0.224, 0.225)),\n",
        "#         ToTensorV2,\n",
        "#     ]\n",
        "# )\n",
        "\n",
        "# valid_transform = A.Compose(\n",
        "#     [A.Resize(config['size'], config['size']), A.Normalize(mean=(0.485, 0.456, 0.406), std=(0.229, 0.224, 0.225)), ToTensorV2()]\n",
        "# )\n",
        "# valid_transform = transforms.Compose([\n",
        "#     transforms.Resize((config['size'],config['size'])),\n",
        "#     transforms.ToTensor(),\n",
        "#     transforms.Normalize(mean, std)])\n",
        "\n",
        "#U-Net: Training Image Segmentation Models in PyTorch\n",
        "# class SegmentationDataset(Dataset):\n",
        "#   def __init__(self, imagePaths, maskPaths, transforms):\n",
        "#     # store the image and mask filepaths, and augmentation\n",
        "#     # transforms\n",
        "#     self.imagePaths = imagePaths\n",
        "#     self.maskPaths = maskPaths\n",
        "#     self.transforms = transforms\n",
        "#   def __len__(self):\n",
        "#     # return the number of total samples contained in the dataset\n",
        "#     return len(self.imagePaths)\n",
        "#   def __getitem__(self, idx):\n",
        "#     # grab the image path from the current index\n",
        "#     imagePath = self.imagePaths[idx]\n",
        "#     # load the image from disk, swap its channels from BGR to RGB,\n",
        "#     # and read the associated mask from disk in grayscale mode\n",
        "#     image = cv2.imread(imagePath)\n",
        "#     image = cv2.cvtColor(image, cv2.COLOR_BGR2RGB)\n",
        "#     img = Image.fromarray(image)\n",
        "\n",
        "#     mask_array = cv2.imread(self.maskPaths[idx])\n",
        "#     mask_array_bw = cv2.threshold(mask_array, 128, 1, cv2.THRESH_BINARY)[1]\n",
        "#     mask = Image.fromarray(mask_array_bw)\n",
        "#     # check to see if we are applying any transformations\n",
        "#     if self.transforms is not None:\n",
        "#       # apply the transformations to both image and its mask\n",
        "#       image = self.transforms(image)\n",
        "#       mask = self.transforms(mask)\n",
        "#     # return a tuple of the image and its mask\n",
        "#     return (image, mask)"
      ],
      "metadata": {
        "id": "V8B_1U4CYPgY"
      },
      "execution_count": null,
      "outputs": []
    },
    {
      "cell_type": "code",
      "source": [
        "class MetalDataset(Dataset):\n",
        "    def __init__(self, imagePaths, maskPaths, transform = None) :\n",
        "        self.imagePaths = imagePaths\n",
        "        self.maskPaths = maskPaths\n",
        "        self.transform = transform\n",
        "        \n",
        "    def __len__(self) :\n",
        "        return len(self.imagePaths)\n",
        "    \n",
        "    def __getitem__(self, index) :\n",
        "\n",
        "        img_path = self.imagePaths[index]\n",
        "        img = cv2.imread(img_path)\n",
        "        img = cv2.cvtColor(img, cv2.COLOR_BGR2RGB)\n",
        "        \n",
        "        mask_array = cv2.imread(self.maskPaths[index])\n",
        "        mask_bw = cv2.threshold(mask_array, 128, 1, cv2.THRESH_BINARY)[1]\n",
        "        ## structure transform\n",
        "        if self.transform:\n",
        "            transformed = self.transform(image = img)\n",
        "            image = transformed[\"image\"]\n",
        "            # mask = transformed[\"mask\"]\n",
        "\n",
        "        # labels = torch.IntTensor(labels)\n",
        "        # mask_bw_ = torch.FloatTensor(np.expand_dims(mask_bw_,axis=0))\n",
        "        return img, mask_bw"
      ],
      "metadata": {
        "id": "wtAY-EpRQ40w"
      },
      "execution_count": null,
      "outputs": []
    },
    {
      "cell_type": "code",
      "source": [
        "### Add by the residual connection\n",
        "class Block(Module):\n",
        "  def __init__(self, inChannels, outChannels):\n",
        "    super().__init__()\n",
        "\t\t# store the convolution and RELU layers\n",
        "    self.conv1 = Conv2d(inChannels, outChannels, 3)\n",
        "    self.bn1 = BatchNorm2d(outChannels)\n",
        "    self.relu = ReLU()\n",
        "    self.conv2 = Conv2d(outChannels, outChannels, 3)\n",
        "    self.bn2 = BatchNorm2d(outChannels)\n",
        "  def forward(self, x):\n",
        "\t\t# apply CONV => RELU => CONV block to the inputs and return it\n",
        "    return self.bn2(self.conv2(self.relu(self.bn1(self.conv1(x)))))"
      ],
      "metadata": {
        "id": "6993ym-pYaSg"
      },
      "execution_count": null,
      "outputs": []
    },
    {
      "cell_type": "code",
      "source": [
        "class Encoder(Module):\n",
        "\tdef __init__(self, channels=(3, 16, 32, 64)):\n",
        "\t\tsuper().__init__()\n",
        "\t\t# store the encoder blocks and maxpooling layer\n",
        "\t\tself.encBlocks = ModuleList(\n",
        "\t\t\t[Block(channels[i], channels[i + 1])\n",
        "\t\t\t \tfor i in range(len(channels) - 1)])\n",
        "\t\tself.pool = MaxPool2d(2)\n",
        "\tdef forward(self, x):\n",
        "\t\t# initialize an empty list to store the intermediate outputs\n",
        "\t\tblockOutputs = []\n",
        "\t\t# loop through the encoder blocks\n",
        "\t\tfor block in self.encBlocks:\n",
        "\t\t\t# pass the inputs through the current encoder block, store\n",
        "\t\t\t# the outputs, and then apply maxpooling on the output\n",
        "\t\t\tx = block(x)\n",
        "\t\t\tblockOutputs.append(x)\n",
        "\t\t\tx = self.pool(x)\n",
        "\t\t# return the list containing the intermediate outputs\n",
        "\t\treturn blockOutputs"
      ],
      "metadata": {
        "id": "Vbu36X_adiyf"
      },
      "execution_count": null,
      "outputs": []
    },
    {
      "cell_type": "code",
      "source": [
        "class Decoder(Module):\n",
        "\tdef __init__(self, channels=(64, 32, 16)):\n",
        "\t\tsuper().__init__()\n",
        "\t\t# initialize the number of channels, upsampler blocks, and\n",
        "\t\t# decoder blocks \n",
        "    # ConvTranspose2d using for upsampling block\n",
        "    # encFeatures : the list of intermediate outputs from the encoder\n",
        "\t\tself.channels = channels\n",
        "\t\tself.upconvs = ModuleList(\n",
        "\t\t\t[ConvTranspose2d(channels[i], channels[i + 1], 2, 2)\n",
        "\t\t\t \tfor i in range(len(channels) - 1)])\n",
        "\t\tself.dec_blocks = ModuleList(\n",
        "\t\t\t[Block(channels[i], channels[i + 1])\n",
        "\t\t\t \tfor i in range(len(channels) - 1)])\n",
        "\tdef forward(self, x, encFeatures):\n",
        "\t\t# loop through the number of channels\n",
        "\t\tfor i in range(len(self.channels) - 1):\n",
        "\t\t\t# pass the inputs through the upsampler blocks\n",
        "\t\t\tx = self.upconvs[i](x)\n",
        "\t\t\t# crop the current features from the encoder blocks => to make sure the dimension of encFeature is equal to x\n",
        "\t\t\t# concatenate them with our current upsampled feature map x, along the channel dimension\n",
        "\t\t\t# and pass the concatenated output through the current\n",
        "\t\t\t# decoder block\n",
        "\t\t\tencFeat = self.crop(encFeatures[i], x)\n",
        "\t\t\tx = torch.cat([x, encFeat], dim=1)\n",
        "\t\t\tx = self.dec_blocks[i](x)\n",
        "\t\t# return the final decoder output\n",
        "\t\treturn x\n",
        "\tdef crop(self, encFeatures, x):\n",
        "\t\t# grab the dimensions of the inputs, and crop the encoder\n",
        "\t\t# features to match the dimensions\n",
        "\t\t(_, _, H, W) = x.shape\n",
        "\t\tencFeatures = CenterCrop([H, W])(encFeatures)\n",
        "\t\t# return the cropped features\n",
        "\t\treturn encFeatures"
      ],
      "metadata": {
        "id": "3h3AduEPhKGb"
      },
      "execution_count": null,
      "outputs": []
    },
    {
      "cell_type": "code",
      "source": [
        "### Encoder start with 3 channels\n",
        "### Encoder double the number of channels. Decoder reduce the channels by a factor of 2 at every step\n",
        "### nbClasses: This defines the number of segmentation classes where we have to classify each pixel\n",
        "### retainDim: This indicates whether we want to retain the original output dimension.\n",
        "### outSize: This determines the spatial dimensions of the output segmentation map. We set this to the same dimension as our input image\n",
        "class UNet(Module):\n",
        "  def __init__(self, encChannels=(3, 16, 32, 64),decChannels=(64, 32, 16),\n",
        "              nbClasses=1, retainDim=True,outSize=(INPUT_IMAGE_HEIGHT,INPUT_IMAGE_WIDTH)):\n",
        "    super().__init__()\n",
        "    # initialize the encoder and decoder\n",
        "    self.encoder = Encoder(encChannels)\n",
        "    self.decoder = Decoder(decChannels)\n",
        "    # initialize the regression head and store the class variables\n",
        "    self.head = Conv2d(decChannels[-1], nbClasses, 1)\n",
        "    self.retainDim = retainDim\n",
        "    self.outSize = outSize\n",
        "  def forward(self, x):\n",
        "    # grab the features from the encoder\n",
        "    encFeatures = self.encoder(x)\n",
        "    # pass the encoder features through decoder making sure that\n",
        "    # their dimensions are suited for concatenation\n",
        "    decFeatures = self.decoder(encFeatures[::-1][0],\n",
        "    encFeatures[::-1][1:])\n",
        "    # pass the decoder features through the regression head to\n",
        "    # obtain the segmentation mask\n",
        "    map = self.head(decFeatures)\n",
        "    # check to see if we are retaining the original output\n",
        "    # dimensions and if so, then resize the output to match them\n",
        "    if self.retainDim:\n",
        "      map = F.interpolate(map, self.outSize)\n",
        "      # return the segmentation map\n",
        "    return map"
      ],
      "metadata": {
        "id": "3LftKRlxlhGI"
      },
      "execution_count": null,
      "outputs": []
    },
    {
      "cell_type": "code",
      "source": [
        "# load the image and mask filepaths in a sorted manner\n",
        "df_segmendata = pd.read_csv('./segmentation.csv')\n",
        "df_segmendata.head()\n",
        "# partition the data into training and testing splits using 90% of\n",
        "# the data for training and the remaining 10% for testing\n",
        "Xseg_train, Xseg_val, yseg_train, yseg_val = train_test_split(df_segmendata['imgs'], df_segmendata['mask'],test_size=VALID_SPLIT, random_state=42)"
      ],
      "metadata": {
        "id": "_DldIu8fpplo"
      },
      "execution_count": null,
      "outputs": []
    },
    {
      "cell_type": "code",
      "source": [
        "# U-Net: Training Image Segmentation Models in PyTorch\n",
        "class SegmentationDataset(Dataset):\n",
        "  def __init__(self, imagePaths, maskPaths, transforms,mask_transform):\n",
        "    # store the image and mask filepaths, and augmentation\n",
        "    # transforms\n",
        "    self.imagePaths = imagePaths\n",
        "    self.maskPaths = maskPaths\n",
        "    self.transforms = transforms\n",
        "    self.mask_transform=mask_transform\n",
        "  def __len__(self):\n",
        "    # return the number of total samples contained in the dataset\n",
        "    return len(self.imagePaths)\n",
        "  def __getitem__(self, idx):\n",
        "    # # grab the image path from the current index\n",
        "    # imagePath = self.imagePaths[idx]\n",
        "    # # load the image from disk, swap its channels from BGR to RGB,\n",
        "    # # and read the associated mask from disk in grayscale mode\n",
        "    # image = cv2.imread(imagePath)\n",
        "    # image = cv2.cvtColor(image, cv2.COLOR_BGR2RGB)\n",
        "    # img = Image.fromarray(image)\n",
        "\n",
        "    # mask_array = cv2.imread(self.maskPaths[idx])\n",
        "    # mask_array_bw = cv2.threshold(mask_array, 128, 1, cv2.THRESH_BINARY)[1]\n",
        "    # mask = Image.fromarray(mask_array_bw)\n",
        "    # grab the image path from the current index\n",
        "    imagePath = self.imagePaths[idx]\n",
        "    # load the image from disk, swap its channels from BGR to RGB,\n",
        "    # and read the associated mask from disk in grayscale mode\n",
        "    image = cv2.imread(imagePath)\n",
        "    image = cv2.cvtColor(image, cv2.COLOR_BGR2RGB)\n",
        "    mask = cv2.imread(self.maskPaths[idx], 0)\n",
        "    mask_array_bw = cv2.threshold(mask,128, 1, cv2.THRESH_BINARY)[1]\n",
        "    # check to see if we are applying any transformations\n",
        "    if self.transforms is not None:\n",
        "      # apply the transformations to both image and its mask\n",
        "      image = self.transforms(image)\n",
        "      mask = self.mask_transform(mask)\n",
        "\n",
        "    # return a tuple of the image and its mask\n",
        "    return (image, mask_array_bw)"
      ],
      "metadata": {
        "id": "P1hjBRk-hUE7"
      },
      "execution_count": null,
      "outputs": []
    },
    {
      "cell_type": "code",
      "source": [
        "train_trans = transforms.Compose([\n",
        "        transforms.ToPILImage(),\n",
        "        transforms.Resize((config['size'],config['size'])),\n",
        "        # transforms.RandomResizedCrop(config['size']),\n",
        "        # transforms.RandomHorizontalFlip(),\n",
        "        transforms.CenterCrop(200), \n",
        "        transforms.ToTensor(),\n",
        "        GaussianNoise(0.1, 0.2),\n",
        "        transforms.Normalize(mean=(0.485, 0.456, 0.406), std=(0.229, 0.224, 0.225)),\n",
        "    ])\n",
        "mask_trans = transforms.Compose([\n",
        "        transforms.ToPILImage(),\n",
        "        transforms.Resize((config['size'],config['size'])),\n",
        "        # transforms.RandomResizedCrop(config['size']),\n",
        "        # transforms.RandomHorizontalFlip(),\n",
        "        transforms.CenterCrop(200),   \n",
        "        transforms.ToTensor(),\n",
        "        # transforms.Normalize(mean=(0.5), std=(0.5)),\n",
        "    ])"
      ],
      "metadata": {
        "id": "ru-0byBykgzT"
      },
      "execution_count": null,
      "outputs": []
    },
    {
      "cell_type": "code",
      "source": [
        "trainseg_ds = SegmentationDataset(imagePaths=list(Xseg_train), maskPaths=list(yseg_train), transforms = train_trans,mask_transform=mask_trans)\n",
        "validseg_ds = SegmentationDataset(imagePaths=list(Xseg_val), maskPaths=list(yseg_val), transforms = train_trans,mask_transform=mask_trans)\n",
        "trainseg_dl = DataLoader(trainseg_ds, config['batch_size'], config['num_workers'])    \n",
        "validseg_dl = DataLoader(validseg_ds, config['batch_size'], config['num_workers'])"
      ],
      "metadata": {
        "id": "aM7LErf0FiWE"
      },
      "execution_count": null,
      "outputs": []
    },
    {
      "cell_type": "code",
      "source": [
        "# aug = A.Compose([\n",
        "#     # A.OneOf([\n",
        "#     #     # A.RandomSizedCrop(min_max_height=(50, 101), height=original_height, width=original_width, p=0.5),\n",
        "#     #     # A.PadIfNeeded(min_height=original_height, min_width=original_width, p=0.5)\n",
        "#     # ], p=1),    \n",
        "#     A.VerticalFlip(p=0.5),              \n",
        "#     A.RandomRotate90(p=0.5),\n",
        "#     A.OneOf([\n",
        "#         A.ElasticTransform(alpha=120, sigma=120 * 0.05, alpha_affine=120 * 0.03, p=0.5),\n",
        "#         A.GridDistortion(p=0.5),\n",
        "#         A.OpticalDistortion(distort_limit=2, shift_limit=0.5, p=1)                  \n",
        "#         ], p=0.8),\n",
        "#     A.CLAHE(p=0.8),\n",
        "#     A.RandomBrightnessContrast(p=0.8),    \n",
        "#     A.RandomGamma(p=0.8)],\n",
        "#     TensorV2())"
      ],
      "metadata": {
        "id": "tz0xX4dBVwBR"
      },
      "execution_count": null,
      "outputs": []
    },
    {
      "cell_type": "code",
      "source": [
        "for x, labels in trainseg_dl:\n",
        "  img_grid = make_grid(x, normalize=True)\n",
        "show(img_grid)"
      ],
      "metadata": {
        "id": "FWanY87znqIY"
      },
      "execution_count": null,
      "outputs": []
    },
    {
      "cell_type": "code",
      "source": [
        "labels.max()"
      ],
      "metadata": {
        "id": "uYDzG8mDnhw1"
      },
      "execution_count": null,
      "outputs": []
    },
    {
      "cell_type": "code",
      "source": [
        "labels.min()"
      ],
      "metadata": {
        "id": "GqBvKbBwWGSv"
      },
      "execution_count": null,
      "outputs": []
    },
    {
      "cell_type": "code",
      "source": [
        "x.shape"
      ],
      "metadata": {
        "id": "Xbe3cTJcn10b"
      },
      "execution_count": null,
      "outputs": []
    },
    {
      "cell_type": "code",
      "source": [
        "class FocalLoss_(torch.nn.Module):\n",
        "    def __init__(self, weight=None, size_average=True):\n",
        "        super(FocalLoss_, self).__init__()\n",
        "\n",
        "    def forward(self, inputs, targets, alpha=0.8, gamma=2, smooth=1):\n",
        "        \n",
        "        #comment out if your model contains a sigmoid or equivalent activation layer\n",
        "        inputs = F.sigmoid(inputs)       \n",
        "        \n",
        "        #flatten label and prediction tensors\n",
        "        inputs = inputs.view(-1)\n",
        "        targets = targets.view(-1)\n",
        "        \n",
        "        #first compute binary cross-entropy \n",
        "        BCE = F.binary_cross_entropy(inputs, targets, reduction='mean')\n",
        "        BCE_EXP = torch.exp(-BCE)\n",
        "        focal_loss = alpha * (1-BCE_EXP)**gamma * BCE\n",
        "                       \n",
        "        return focal_loss"
      ],
      "metadata": {
        "id": "zlHWTLgOBsfR"
      },
      "execution_count": null,
      "outputs": []
    },
    {
      "cell_type": "code",
      "source": [
        "# initialize our UNet model\n",
        "unet = UNet().to(DEVICE)\n",
        "# initialize loss function and optimizer\n",
        "lossFunc = FocalLoss_()\n",
        "opt = Adam(unet.parameters(), lr=INIT_LR)\n",
        "# calculate steps per epoch for training and test set\n",
        "trainSteps = len(trainseg_dl)\n",
        "testSteps = len(validseg_dl) \n",
        "# initialize a dictionary to store training history\n",
        "H = {\"train_loss\": [], \"test_loss\": []}"
      ],
      "metadata": {
        "id": "0I1fG1Agn9S2"
      },
      "execution_count": null,
      "outputs": []
    },
    {
      "cell_type": "code",
      "source": [
        "len(trainseg_dl)"
      ],
      "metadata": {
        "id": "RRtsDy7gCwgn"
      },
      "execution_count": null,
      "outputs": []
    },
    {
      "cell_type": "code",
      "source": [
        "# loop over epochs\n",
        "print(\"[INFO] training the network...\")\n",
        "startTime = time.time()\n",
        "for e in tqdm(range(config['epochs'])):\n",
        "\t# set the model in training mode\n",
        "\tunet.train()\n",
        "\t# initialize the total training and validation loss\n",
        "\ttotalTrainLoss = 0\n",
        "\ttotalTestLoss = 0\n",
        "\t# loop over the training set\n",
        "\tfor (i, (x, y)) in enumerate(trainseg_dl):\n",
        "\t\t# send the input to the device\n",
        "\t\t(x, y) = (x.to(DEVICE), y.to(DEVICE))\n",
        "\t\t# perform a forward pass and calculate the training loss\n",
        "\t\tpred = unet(x)\n",
        "\t\tloss = lossFunc(pred, y)\n",
        "\t\t# first, zero out any previously accumulated gradients, then\n",
        "\t\t# perform backpropagation, and then update model parameters\n",
        "\t\topt.zero_grad()\n",
        "\t\tloss.backward()\n",
        "\t\topt.step()\n",
        "\t\t# add the loss to the total training loss so far\n",
        "\t\ttotalTrainLoss += loss\n",
        "\t# switch off autograd\n",
        "\twith torch.no_grad():\n",
        "\t\t# set the model in evaluation mode\n",
        "\t\tunet.eval()\n",
        "\t\t# loop over the validation set\n",
        "\t\tfor (x, y) in validseg_dl:\n",
        "\t\t\t# send the input to the device\n",
        "\t\t\t(x, y) = (x.to(DEVICE), y.to(DEVICE))\n",
        "\t\t\t# make the predictions and calculate the validation loss\n",
        "\t\t\tpred = unet(x)\n",
        "\t\t\ttotalTestLoss += lossFunc(pred, y)\n",
        "\t# calculate the average training and validation loss\n",
        "\tavgTrainLoss = totalTrainLoss / trainSteps\n",
        "\tavgTestLoss = totalTestLoss / testSteps\n",
        "\t# update our training history\n",
        "\tH[\"train_loss\"].append(avgTrainLoss.cpu().detach().numpy())\n",
        "\tH[\"test_loss\"].append(avgTestLoss.cpu().detach().numpy())\n",
        "\t# print the model training and validation information\n",
        "\tprint(\"[INFO] EPOCH: {}/{}\".format(e + 1, config['epochs']))\n",
        "\tprint(\"Train loss: {:.6f}, Test loss: {:.4f}\".format(\n",
        "\t\tavgTrainLoss, avgTestLoss))\n",
        "# display the total time needed to perform the training\n",
        "endTime = time.time()\n",
        "print(\"[INFO] total time taken to train the model: {:.2f}s\".format(\n",
        "\tendTime - startTime))"
      ],
      "metadata": {
        "id": "d2kNMGHA8CCs"
      },
      "execution_count": null,
      "outputs": []
    },
    {
      "cell_type": "code",
      "source": [
        "pred.shape"
      ],
      "metadata": {
        "id": "ciKAYobh9GL_"
      },
      "execution_count": null,
      "outputs": []
    },
    {
      "cell_type": "code",
      "source": [
        "y.shape"
      ],
      "metadata": {
        "id": "Cl1yeA7Z9R9f"
      },
      "execution_count": null,
      "outputs": []
    },
    {
      "cell_type": "code",
      "source": [
        "break"
      ],
      "metadata": {
        "id": "U73obIy4dSmS"
      },
      "execution_count": null,
      "outputs": []
    },
    {
      "cell_type": "code",
      "source": [
        "def acc(input, target):\n",
        "    \"\"\"\n",
        "    segmentation accuracy\n",
        "    \"\"\"\n",
        "    target = target.squeeze(1)\n",
        "    return (input.argmax(dim=1)==target).float().mean()\n",
        "\n",
        "def dice(input, targs):#->Rank0Tensor:\n",
        "    \"\"\"\n",
        "    DICE score is the F1-score for the segmentation problems. \n",
        "    \"\"\"\n",
        "    n = targs.shape[0]\n",
        "    input = input.argmax(dim=1).view(n,-1)\n",
        "    targs = targs.squeeze(1).view(n,-1)\n",
        "    intersect = (input*targs).float().sum()\n",
        "    union = (input+targs).float().sum()\n",
        "    return 2. * intersect / union\n",
        "    \n",
        "def iou(input, targs):#->Rank0Tensor:\n",
        "    \"\"\"\n",
        "    Intersection over Union\n",
        "    \"\"\"\n",
        "    n = targs.shape[0]\n",
        "    input = input.argmax(dim=1).view(n,-1)\n",
        "    targs = targs.squeeze(1).view(n,-1)\n",
        "    intersect = (input*targs).float().sum()\n",
        "    union = (input+targs).float().sum()\n",
        "    return intersect / (union-intersect+1.0)"
      ],
      "metadata": {
        "id": "3wehb-h0Cms3"
      },
      "execution_count": null,
      "outputs": []
    },
    {
      "cell_type": "code",
      "source": [
        "iou(pred,y)"
      ],
      "metadata": {
        "id": "I2sJ4cyJVx7e"
      },
      "execution_count": null,
      "outputs": []
    },
    {
      "cell_type": "code",
      "source": [
        ""
      ],
      "metadata": {
        "id": "bhj1BG7HdK6-"
      },
      "execution_count": null,
      "outputs": []
    }
  ]
}